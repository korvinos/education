{
 "cells": [
  {
   "cell_type": "code",
   "execution_count": null,
   "metadata": {
    "collapsed": true
   },
   "outputs": [],
   "source": [
    "def foo(n, array, el):\n",
    "    return (len([1 for i in range(0, n) if int(array[i]) == el]))\n",
    "\n",
    "n = int(input())\n",
    "array = input().split()\n",
    "el = int(input())\n",
    "% timeit foo(n, array, el)"
   ]
  },
  {
   "cell_type": "code",
   "execution_count": 41,
   "metadata": {
    "collapsed": false
   },
   "outputs": [
    {
     "name": "stdout",
     "output_type": "stream",
     "text": [
      "5\n",
      "1 2 3 4 5\n",
      "5\n",
      "The slowest run took 4.21 times longer than the fastest. This could mean that an intermediate result is being cached.\n",
      "100000 loops, best of 3: 3.05 µs per loop\n"
     ]
    }
   ],
   "source": [
    "def foo(n, array, el):\n",
    "    for i in range(0, n):\n",
    "        if int(array[i]) == el:\n",
    "            return 'YES'\n",
    "    return 'NO'\n",
    "\n",
    "n = int(input())\n",
    "array = input().split()\n",
    "el = int(input())\n",
    "foo(n, array, el)"
   ]
  },
  {
   "cell_type": "code",
   "execution_count": 62,
   "metadata": {
    "collapsed": false
   },
   "outputs": [
    {
     "name": "stdout",
     "output_type": "stream",
     "text": [
      "5\n",
      "1 2 3 4 5\n",
      "3\n"
     ]
    },
    {
     "data": {
      "text/plain": [
       "3"
      ]
     },
     "execution_count": 62,
     "metadata": {},
     "output_type": "execute_result"
    }
   ],
   "source": [
    "def foo(n, array, el):\n",
    "    ind = 0\n",
    "    min_diff = 1000\n",
    "    for i in range(0, n):\n",
    "#        print('diff: ', abs(int(array[i]) - el), 'min_diff: ', min_diff)\n",
    "#        print(abs(int(array[i]) - el) < min_diff)\n",
    "        if abs(int(array[i]) - el) < min_diff:\n",
    "            ind = i\n",
    "            min_diff = abs(int(array[i]) - el)\n",
    "#        print(ind)\n",
    "    \n",
    "    return int(array[ind])\n",
    "            \n",
    "\n",
    "n = int(input())\n",
    "array = input().split()\n",
    "el = int(input())\n",
    "foo(n, array, el)"
   ]
  },
  {
   "cell_type": "code",
   "execution_count": 86,
   "metadata": {
    "collapsed": false
   },
   "outputs": [
    {
     "name": "stdout",
     "output_type": "stream",
     "text": [
      "1\n",
      "12 3 4 4\n",
      "5\n"
     ]
    }
   ],
   "source": [
    "n = int(input())\n",
    "array = input().split()\n",
    "el = int(input())\n",
    "\n",
    "f = [i + 1 for i in range(0, n) if int(array[i]) == el]\n",
    "for i in f:\n",
    "    print(i, end =' ')"
   ]
  },
  {
   "cell_type": "code",
   "execution_count": 89,
   "metadata": {
    "collapsed": true
   },
   "outputs": [
    {
     "name": "stdout",
     "output_type": "stream",
     "text": [
      "5\n",
      "12 34 5 43 2\n",
      "43\n"
     ]
    }
   ],
   "source": [
    "def foo(n, array):\n",
    "    max_val = int(array[0])\n",
    "    max_ind = 0\n",
    "    for i in range(1, n):\n",
    "        if int(array[i]) > max_val:\n",
    "            max_ind = i\n",
    "            max_val = int(array[i])\n",
    "    return max_val\n",
    "    \n",
    "    \n",
    "n = int(input())\n",
    "array = input().split()\n",
    "print(foo(n, array))"
   ]
  },
  {
   "cell_type": "code",
   "execution_count": 91,
   "metadata": {
    "collapsed": false
   },
   "outputs": [
    {
     "name": "stdout",
     "output_type": "stream",
     "text": [
      "6\n",
      "1 2 3 4 5 6\n",
      "6\n"
     ]
    }
   ],
   "source": [
    "def foo(n, array):\n",
    "    max_val = int(array[0])\n",
    "    max_ind = 0\n",
    "    for i in range(1, n):\n",
    "        if int(array[i]) > max_val:\n",
    "            max_ind = i\n",
    "            max_val = int(array[i])\n",
    "    return max_ind + 1\n",
    "    \n",
    "    \n",
    "n = int(input())\n",
    "array = input().split()\n",
    "print(foo(n, array))"
   ]
  },
  {
   "cell_type": "code",
   "execution_count": 8,
   "metadata": {
    "collapsed": false
   },
   "outputs": [
    {
     "name": "stdout",
     "output_type": "stream",
     "text": [
      "5\n",
      "10 2 3 1 5\n",
      "(1, 5)\n"
     ]
    }
   ],
   "source": [
    "def foo(n, array):\n",
    "    index_array = [i for i in range(n)]\n",
    "    first_list = (index_array[:int(n/2)])\n",
    "    second_list = (index_array[int(n/2):])\n",
    "    \n",
    "    min_list = []\n",
    "    max_list = []\n",
    "    while first_list:         \n",
    "        if int(array[first_list[0]]) > int(array[second_list[0]]):\n",
    "            max_list.append(first_list.pop(0))\n",
    "            min_list.append(second_list.pop(0))\n",
    "        else:\n",
    "            max_list.append(second_list.pop(0))\n",
    "            min_list.append(first_list.pop(0))\n",
    "    \n",
    "    max_ind = 0\n",
    "    max_val = int(array[max_ind])\n",
    "\n",
    "    min_ind = 0\n",
    "    min_val = int(array[min_ind])\n",
    "    \n",
    "    for i in range(1, len(max_list)):\n",
    "        if int(array[max_list[i]]) > max_val:\n",
    "            max_val = int(array[max_list[i]])\n",
    "            max_ind = max_list[i]\n",
    "        if int(array[min_list[i]]) > min_val:\n",
    "            min_val = int(array[min_list[i]])\n",
    "            min_ind = min_list[i]\n",
    "\n",
    "    if n % 2 == 1:\n",
    "        if int(array[second_list[0]]) < min_val:\n",
    "            min_ind = second_list[0]\n",
    "        elif int(array[second_list[0]]) > max_val:\n",
    "            max_ind = second_list[0]\n",
    "    return max_ind + 1, min_ind + 1\n",
    "    \n",
    "    \n",
    "n = int(input())\n",
    "array = input().split()\n",
    "print(foo(n, array))"
   ]
  },
  {
   "cell_type": "code",
   "execution_count": 21,
   "metadata": {
    "collapsed": false
   },
   "outputs": [
    {
     "name": "stdout",
     "output_type": "stream",
     "text": [
      "5\n",
      "10 2 3 1 5\n",
      "1 2\n"
     ]
    }
   ],
   "source": [
    "def foo(n, array):\n",
    "    if int(array[0]) > int(array[1]):\n",
    "        min1 = int(array[1])\n",
    "        min2 = int(array[0])\n",
    "    else:\n",
    "        min1 = int(array[0])\n",
    "        min2 = int(array[1])        \n",
    "            \n",
    "    for i in range(2, n):\n",
    "        if int(array[i]) < min1:\n",
    "            min2 = min1\n",
    "            min1 = int(array[i])\n",
    "        \n",
    "        if int(array[i]) < min2 and int(array[i]) > min1:\n",
    "            min2 = int(array[i])\n",
    "            \n",
    "    return min1, min2\n",
    "\n",
    "n = int(input())\n",
    "array = input().split()\n",
    "f = foo(n, array)\n",
    "print(f[0], f[1])"
   ]
  },
  {
   "cell_type": "code",
   "execution_count": 31,
   "metadata": {
    "collapsed": false
   },
   "outputs": [
    {
     "name": "stdout",
     "output_type": "stream",
     "text": [
      "3\n",
      "3\n",
      "1 2 3\n",
      "3 2 1\n",
      "1 1 1\n",
      "YES\n",
      "NO\n",
      "YES\n"
     ]
    }
   ],
   "source": [
    "def foo(n, x, array):\n",
    "    result = []\n",
    "    for i in range(0, n):\n",
    "        current = 'NO'\n",
    "        for j in range(0, n):\n",
    "            if int(array[j][i]) == x:\n",
    "                current = 'YES'\n",
    "                break\n",
    "        result.append(current)\n",
    "    return result\n",
    "                \n",
    "x = int(input())\n",
    "n = int(input())\n",
    "a = []\n",
    "for i in range(0, n):\n",
    "    a.append(input().split())\n",
    "\n",
    "for el in foo(n, x, a):\n",
    "    print(el)"
   ]
  },
  {
   "cell_type": "code",
   "execution_count": 155,
   "metadata": {
    "collapsed": false,
    "scrolled": true
   },
   "outputs": [
    {
     "name": "stdout",
     "output_type": "stream",
     "text": [
      "2 2\n",
      "0 0\n",
      "0 0\n",
      "4\n"
     ]
    }
   ],
   "source": [
    "def foo(n, m, array):\n",
    "    points = 0\n",
    "    for i in range(0, n):\n",
    "        min_ids_array = []\n",
    "        min_ind = 0\n",
    "        min_val = 3000\n",
    "        for j in range(0, m):\n",
    "            if array[i][j] < min_val:\n",
    "                min_val = array[i][j]\n",
    "                min_ids_array = []\n",
    "                min_ids_array.append(j)\n",
    "            elif array[i][j] == min_val:\n",
    "                min_ids_array.append(j)\n",
    "        \n",
    "        for z in min_ids_array:\n",
    "            current_min = array[i][z]\n",
    "            r = 1\n",
    "            for k in range(0, n):\n",
    "                if array[k][z] > current_min:\n",
    "                    r = 0\n",
    "                    break\n",
    "            points += r\n",
    "    return points\n",
    "        \n",
    "    \n",
    "n, m = [int(i) for i in input().split()]\n",
    "a = [[int(j) for j in input().split()] for i in range(0, int(n))]\n",
    "print(foo(n, m, a))"
   ]
  },
  {
   "cell_type": "code",
   "execution_count": 148,
   "metadata": {
    "collapsed": false,
    "scrolled": true
   },
   "outputs": [
    {
     "name": "stdout",
     "output_type": "stream",
     "text": [
      "5\n",
      "5 5 5 5 4\n",
      "100000 loops, best of 3: 8.49 µs per loop\n"
     ]
    }
   ],
   "source": [
    "def foo(n, array):\n",
    "    if array[0] == array[1]:\n",
    "        max1 = array[0]\n",
    "        for i in range(2, n):\n",
    "            if array[i] != max1:\n",
    "                max2 = array[i]\n",
    "                break\n",
    "    \n",
    "    elif array[0] > array[1]:\n",
    "        max1 = array[0]\n",
    "        max2 = array[1]\n",
    "    else:\n",
    "        max1 = array[1]\n",
    "        max2 = array[0]\n",
    "        \n",
    "    for i in range(1, n):\n",
    "        if array[i] > max1:\n",
    "            max2 = max1\n",
    "            max1 = array[i]\n",
    "        \n",
    "        elif array[i] > max2 and array[i] < max1:\n",
    "            max2 = array[i]\n",
    "    return max2\n",
    "        \n",
    "    \n",
    "n = int(input())\n",
    "a = [int(i) for i in input().split()]\n",
    "%timeit foo(n, a)"
   ]
  },
  {
   "cell_type": "code",
   "execution_count": 159,
   "metadata": {
    "collapsed": false
   },
   "outputs": [
    {
     "name": "stdout",
     "output_type": "stream",
     "text": [
      "2 2\n",
      "0 0\n",
      "0 0\n",
      "100000 loops, best of 3: 17.5 µs per loop\n"
     ]
    }
   ],
   "source": [
    "def foo(n, m, array):\n",
    "    n, m = int(n), int(m)\n",
    "    points = 0\n",
    "    for i in range(0, n):\n",
    "        min_ids_array = []\n",
    "        min_ind = 0\n",
    "        min_val = 3000\n",
    "        for j in range(0, m):\n",
    "            if int(array[i][j]) < min_val:\n",
    "                min_val = int(array[i][j])\n",
    "                min_ids_array = []\n",
    "                min_ids_array.append(j)\n",
    "            elif int(array[i][j]) == min_val:\n",
    "                min_ids_array.append(j)\n",
    "        \n",
    "        for z in min_ids_array:\n",
    "            current_min = int(array[i][z])\n",
    "            r = 1\n",
    "            for k in range(0, n):\n",
    "                if int(array[k][z]) > current_min:\n",
    "                    r = 0\n",
    "                    break\n",
    "            points += r\n",
    "    return points\n",
    "        \n",
    "    \n",
    "n, m = input().split()\n",
    "a = [input().split() for i in range(0, int(n))]\n",
    "%timeit foo(n, m, a)"
   ]
  },
  {
   "cell_type": "code",
   "execution_count": 171,
   "metadata": {
    "collapsed": false
   },
   "outputs": [
    {
     "name": "stdout",
     "output_type": "stream",
     "text": [
      "8 5 4 2 2 4 2 2 5 \n",
      "2 4 2 2 4 2 2 2 "
     ]
    }
   ],
   "source": [
    "def foo(n, array):\n",
    "    max_val = 0\n",
    "    min_val = 100\n",
    "    \n",
    "    for i in range(0, n):\n",
    "        if array[i] > max_val:\n",
    "            max_val = array[i]\n",
    "        \n",
    "        if array[i] < min_val:\n",
    "            min_val = array[i]\n",
    "\n",
    "    for i in range(0, n):\n",
    "        if array[i] == max_val:\n",
    "            array[i] = min_val\n",
    "                    \n",
    "    return array\n",
    "\n",
    "a = [int(i) for i in input().split()]\n",
    "n = a.pop(0)\n",
    "for el in foo(n,a):\n",
    "    print(el, end=' ')"
   ]
  },
  {
   "cell_type": "code",
   "execution_count": 20,
   "metadata": {
    "collapsed": false
   },
   "outputs": [
    {
     "name": "stdout",
     "output_type": "stream",
     "text": [
      "0 2 5\n",
      "0 1 2\n",
      "3\n",
      "0 2 5\n",
      "0 1 2\n",
      "3\n",
      "0 2 5\n",
      "2 3 5\n",
      "3 4 5\n",
      "9\n",
      "0 2 5\n",
      "0 1 2\n",
      "0\n",
      "0 2 5\n",
      "2 3 5\n",
      "7\n"
     ]
    }
   ],
   "source": [
    "def binSearch(el, n):\n",
    "    left, right = 0, n\n",
    "\n",
    "    while right - left != 1:\n",
    "        m = (left + right) // 2 \n",
    "        print(left, m, right)\n",
    "        if el < n_list[m]:\n",
    "            right = m\n",
    "        else:\n",
    "            left = m\n",
    "    return left if n_list[left] == el else n_list[m] \n",
    " \n",
    "# n, k = [int(i) for i in input().split()]\n",
    "# n_list = [int(i) for i in input().split()]\n",
    "# k_list = [int(i) for i in input().split()]\n",
    "\n",
    "n, k = 5, 5\n",
    "n_list = [1, 3, 5, 7, 9]\n",
    "k_list = [2, 4, 8, 1, 6]\n",
    "\n",
    " \n",
    "for el in k_list:\n",
    "    print(binSearch(el, n))"
   ]
  },
  {
   "cell_type": "code",
   "execution_count": 56,
   "metadata": {
    "collapsed": false
   },
   "outputs": [
    {
     "name": "stdout",
     "output_type": "stream",
     "text": [
      "LEFT:  0  M:  2  RIGHT:  4\n",
      "LEFT:  0  M:  1  RIGHT:  2\n",
      "1\n",
      "LEFT:  0  M:  2  RIGHT:  4\n",
      "LEFT:  0  M:  1  RIGHT:  2\n",
      "3\n",
      "1\n",
      "9\n",
      "LEFT:  0  M:  2  RIGHT:  4\n",
      "LEFT:  2  M:  3  RIGHT:  4\n",
      "6\n"
     ]
    }
   ],
   "source": [
    "n, k = 5, 5\n",
    "n_list = [1, 3, 5, 6, 9]\n",
    "k_list = [2, 4, 0, 10, 6]\n",
    "\n",
    "f = 1\n",
    "for el in k_list:\n",
    "    \n",
    "    left, right = 0, n - 1\n",
    "    \n",
    "    if el <= n_list[0]:\n",
    "        print(n_list[0])\n",
    "    elif el >= n_list[-1]:\n",
    "        print(n_list[-1])\n",
    "    else:\n",
    "        while right - left > 1:\n",
    "            f += 1\n",
    "            if f > 100: break\n",
    "            \n",
    "            m = (right + left) // 2\n",
    "            print('LEFT: ', left, ' M: ', m, ' RIGHT: ', right )\n",
    "        \n",
    "            if el > n_list[m]: left = m\n",
    "            elif el < n_list[m]: right = m\n",
    "            elif el == n_list[m]: left = m; break\n",
    "        if n_list[right] - el < el - n_list[left]:\n",
    "            print(n_list[right])\n",
    "        else:\n",
    "            print(n_list[left])"
   ]
  },
  {
   "cell_type": "code",
   "execution_count": 7,
   "metadata": {
    "collapsed": true
   },
   "outputs": [],
   "source": [
    "# linear search of left and right borders of 'el' in 'n_list' array\n",
    "def first_last(n_list, mid, el, n):\n",
    "    first, last = 0, 0\n",
    "    for i in range(mid, -1, -1):\n",
    "        if n_list[i] == el: first = i\n",
    "        else: break\n",
    "    for i in range(mid, n):\n",
    "        if n_list[i] == el: last = i\n",
    "        else: break\n",
    "    return first + 1, last + 1\n",
    "\n",
    "# imort of params for bin.search\n",
    "# n, k = [int(i) for i in input().split()]\n",
    "# n_list = [int(i) for i in input().split()]\n",
    "# k_list = [int(i) for i in input().split()]"
   ]
  },
  {
   "cell_type": "code",
   "execution_count": 11,
   "metadata": {
    "collapsed": false
   },
   "outputs": [
    {
     "name": "stdout",
     "output_type": "stream",
     "text": [
      "10\n4\n7\n1\nlol 0\n"
     ]
    }
   ],
   "source": [
    "# code for searching of left border\n",
    "# doesn't solve yet\n",
    "def right_search(left, el, n_list, n):\n",
    "    pass\n",
    "\n",
    "def bin_search(el, n_list, n):   \n",
    "    if el < n_list[0] or el > n_list[-1]: return 'lol 0' \n",
    "    elif n == 1 and n_list[0] == el: return 1, 1 \n",
    "    \n",
    "    left, right = 0, n\n",
    "   \n",
    "    while right - left > 1:\n",
    "        mid = (right + left) // 2\n",
    "        \n",
    "        if n_list[left] == el: return right_search(left, el, n_list, n)\n",
    "        elif n_list[mid] == el:\n",
    "        \n",
    "            if mid == left + 1:\n",
    "                return right_search(mid, el, n_list, n)\n",
    "            else: right = mid + 1\n",
    "        \n",
    "        elif n_list[mid] < el: left = mid + 1\n",
    "        else: right = mid\n",
    "\n",
    "    return right_search(left, el, n_list, n)\n",
    "\n",
    "\n",
    "for el in k_list:\n",
    "    f = bin_search_left(el, n_list, n)\n",
    "    print(f)"
   ]
  },
  {
   "cell_type": "code",
   "execution_count": 2,
   "metadata": {
    "collapsed": false
   },
   "outputs": [
    {
     "ename": "StdinNotImplementedError",
     "evalue": "raw_input was called, but this frontend does not support input requests.",
     "traceback": [
      "\u001b[0;31m---------------------------------------------------------------------------\u001b[0m",
      "\u001b[0;31mStdinNotImplementedError\u001b[0m                  Traceback (most recent call last)",
      "\u001b[0;32m<ipython-input-2-7c4f3f4c5225>\u001b[0m in \u001b[0;36m<module>\u001b[0;34m()\u001b[0m\n\u001b[1;32m      2\u001b[0m \u001b[0mstack\u001b[0m \u001b[0;34m=\u001b[0m \u001b[0mlist\u001b[0m\u001b[0;34m(\u001b[0m\u001b[0;34m)\u001b[0m\u001b[0;34m\u001b[0m\u001b[0m\n\u001b[1;32m      3\u001b[0m \u001b[0;32mwhile\u001b[0m \u001b[0;32mTrue\u001b[0m\u001b[0;34m:\u001b[0m\u001b[0;34m\u001b[0m\u001b[0m\n\u001b[0;32m----> 4\u001b[0;31m     \u001b[0mcommand\u001b[0m \u001b[0;34m=\u001b[0m \u001b[0minput\u001b[0m\u001b[0;34m(\u001b[0m\u001b[0;34m)\u001b[0m\u001b[0;34m.\u001b[0m\u001b[0msplit\u001b[0m\u001b[0;34m(\u001b[0m\u001b[0;34m)\u001b[0m\u001b[0;34m\u001b[0m\u001b[0m\n\u001b[0m\u001b[1;32m      5\u001b[0m     \u001b[0;32mif\u001b[0m \u001b[0mcommand\u001b[0m\u001b[0;34m[\u001b[0m\u001b[0;36m0\u001b[0m\u001b[0;34m]\u001b[0m \u001b[0;34m==\u001b[0m \u001b[0;34m'push'\u001b[0m\u001b[0;34m:\u001b[0m\u001b[0;34m\u001b[0m\u001b[0m\n\u001b[1;32m      6\u001b[0m         \u001b[0mstack\u001b[0m\u001b[0;34m.\u001b[0m\u001b[0mappend\u001b[0m\u001b[0;34m(\u001b[0m\u001b[0mint\u001b[0m\u001b[0;34m(\u001b[0m\u001b[0mcommand\u001b[0m\u001b[0;34m[\u001b[0m\u001b[0;36m1\u001b[0m\u001b[0;34m]\u001b[0m\u001b[0;34m)\u001b[0m\u001b[0;34m)\u001b[0m\u001b[0;34m\u001b[0m\u001b[0m\n",
      "\u001b[0;32m/home/artemm/Programs/Miniconda/miniconda2/envs/education/lib/python3.5/site-packages/ipykernel/kernelbase.py\u001b[0m in \u001b[0;36mraw_input\u001b[0;34m(self, prompt)\u001b[0m\n\u001b[1;32m    682\u001b[0m         \u001b[0;32mif\u001b[0m \u001b[0;32mnot\u001b[0m \u001b[0mself\u001b[0m\u001b[0;34m.\u001b[0m\u001b[0m_allow_stdin\u001b[0m\u001b[0;34m:\u001b[0m\u001b[0;34m\u001b[0m\u001b[0m\n\u001b[1;32m    683\u001b[0m             raise StdinNotImplementedError(\n\u001b[0;32m--> 684\u001b[0;31m                 \u001b[0;34m\"raw_input was called, but this frontend does not support input requests.\"\u001b[0m\u001b[0;34m\u001b[0m\u001b[0m\n\u001b[0m\u001b[1;32m    685\u001b[0m             )\n\u001b[1;32m    686\u001b[0m         return self._input_request(prompt,\n",
      "\u001b[0;31mStdinNotImplementedError\u001b[0m: raw_input was called, but this frontend does not support input requests."
     ],
     "output_type": "error"
    }
   ],
   "source": [
    "# stack\n",
    "stack = list()\n",
    "while True:\n",
    "    command = input().split()\n",
    "    if command[0] == 'push':\n",
    "        stack.append(int(command[1]))\n",
    "        print('ok')\n",
    "    elif command[0] == 'pop':\n",
    "        if stack: print(stack.pop(-1))\n",
    "        else: print('error')\n",
    "    elif command[0] == 'back':\n",
    "        if stack: print(stack[-1])\n",
    "        else: print('error')\n",
    "    elif command[0] == 'size': print(len(stack))\n",
    "    elif command[0] == 'clear':\n",
    "        stack = list()\n",
    "        print('ok')\n",
    "    elif command[0] == 'exit':\n",
    "        print('bye')\n",
    "        break"
   ]
  },
  {
   "cell_type": "code",
   "execution_count": 2,
   "metadata": {},
   "outputs": [
    {
     "ename": "StdinNotImplementedError",
     "evalue": "raw_input was called, but this frontend does not support input requests.",
     "traceback": [
      "\u001b[0;31m---------------------------------------------------------------------------\u001b[0m",
      "\u001b[0;31mStdinNotImplementedError\u001b[0m                  Traceback (most recent call last)",
      "\u001b[0;32m<ipython-input-2-f0c90b19b99b>\u001b[0m in \u001b[0;36m<module>\u001b[0;34m()\u001b[0m\n\u001b[0;32m----> 1\u001b[0;31m \u001b[0ma\u001b[0m\u001b[0;34m,\u001b[0m \u001b[0mb\u001b[0m \u001b[0;34m=\u001b[0m \u001b[0minput\u001b[0m\u001b[0;34m(\u001b[0m\u001b[0;34m)\u001b[0m\u001b[0;34m.\u001b[0m\u001b[0msplit\u001b[0m\u001b[0;34m(\u001b[0m\u001b[0;34m)\u001b[0m\u001b[0;34m\u001b[0m\u001b[0m\n\u001b[0m\u001b[1;32m      2\u001b[0m \u001b[0ma\u001b[0m\u001b[0;34m,\u001b[0m \u001b[0mb\u001b[0m\u001b[0;34m\u001b[0m\u001b[0m\n",
      "\u001b[0;32m/home/artemm/Programs/Miniconda/miniconda2/envs/education/lib/python3.5/site-packages/ipykernel/kernelbase.py\u001b[0m in \u001b[0;36mraw_input\u001b[0;34m(self, prompt)\u001b[0m\n\u001b[1;32m    682\u001b[0m         \u001b[0;32mif\u001b[0m \u001b[0;32mnot\u001b[0m \u001b[0mself\u001b[0m\u001b[0;34m.\u001b[0m\u001b[0m_allow_stdin\u001b[0m\u001b[0;34m:\u001b[0m\u001b[0;34m\u001b[0m\u001b[0m\n\u001b[1;32m    683\u001b[0m             raise StdinNotImplementedError(\n\u001b[0;32m--> 684\u001b[0;31m                 \u001b[0;34m\"raw_input was called, but this frontend does not support input requests.\"\u001b[0m\u001b[0;34m\u001b[0m\u001b[0m\n\u001b[0m\u001b[1;32m    685\u001b[0m             )\n\u001b[1;32m    686\u001b[0m         return self._input_request(prompt,\n",
      "\u001b[0;31mStdinNotImplementedError\u001b[0m: raw_input was called, but this frontend does not support input requests."
     ],
     "output_type": "error"
    }
   ],
   "source": [
    "a, b = input().split()\n",
    "a, b"
   ]
  }
 ],
 "metadata": {
  "kernelspec": {
   "display_name": "Python 3",
   "language": "python",
   "name": "python3"
  },
  "language_info": {
   "codemirror_mode": {
    "name": "ipython",
    "version": 3.0
   },
   "file_extension": ".py",
   "mimetype": "text/x-python",
   "name": "python",
   "nbconvert_exporter": "python",
   "pygments_lexer": "ipython3",
   "version": "3.5.2"
  }
 },
 "nbformat": 4,
 "nbformat_minor": 0
}